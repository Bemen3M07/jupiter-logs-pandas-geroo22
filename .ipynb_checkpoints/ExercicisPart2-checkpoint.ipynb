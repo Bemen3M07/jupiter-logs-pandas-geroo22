{
 "cells": [
  {
   "cell_type": "code",
   "execution_count": null,
   "id": "4d064921-190f-460d-b275-78dfb817e442",
   "metadata": {},
   "outputs": [],
   "source": [
    "Exercici 1\n",
    "Explica quines comandes de Linux Pots fer servir a l’hora d’analitzar logs escrits a fitxer per a:\n",
    "\n",
    "1.1 Veure contínuament els logs que es van escrivint a un arxiu\n",
    "Per veure els log que es van afegint, utilitzarem tail -f\n",
    "    -tail -f logs.log\n",
    "Per veure nomes les 7 ultimes linies utilitzarem tail -n\n",
    " -tail -n 7 -f logs.log\n",
    "\n",
    "1.2 Cercar una paraula concreta dintre d’un arxiu de log\n",
    "Per buscar una paraula en concret utilitzarem la comanda grep\n",
    "    -grep \"error\" logs.log\n",
    "Per ignorar majuscules i minuscules utilitzarem grep -i\n",
    "    -grep -i \"error\" logs.log"
   ]
  }
 ],
 "metadata": {
  "kernelspec": {
   "display_name": "Python 3 (ipykernel)",
   "language": "python",
   "name": "python3"
  },
  "language_info": {
   "codemirror_mode": {
    "name": "ipython",
    "version": 3
   },
   "file_extension": ".py",
   "mimetype": "text/x-python",
   "name": "python",
   "nbconvert_exporter": "python",
   "pygments_lexer": "ipython3",
   "version": "3.12.1"
  }
 },
 "nbformat": 4,
 "nbformat_minor": 5
}
