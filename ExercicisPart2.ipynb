{
 "cells": [
  {
   "cell_type": "code",
   "execution_count": null,
   "id": "4d064921-190f-460d-b275-78dfb817e442",
   "metadata": {},
   "outputs": [],
   "source": [
    "Exercici 1\n",
    "Explica quines comandes de Linux Pots fer servir a l’hora d’analitzar logs escrits a fitxer per a:\n",
    "\n",
    "1.1 Veure contínuament els logs que es van escrivint a un arxiu\n",
    "Per veure els log que es van afegint, utilitzarem tail -f\n",
    "    -tail -f logs.log\n",
    "Per veure nomes les 7 ultimes linies utilitzarem tail -n\n",
    " -tail -n 7 -f logs.log\n",
    "\n",
    "1.2 Cercar una paraula concreta dintre d’un arxiu de log\n",
    "Per buscar una paraula en concret utilitzarem la comanda grep\n",
    "    -grep \"error\" logs.log\n",
    "Per ignorar majuscules i minuscules utilitzarem grep -i\n",
    "    -grep -i \"error\" logs.log"
   ]
  },
  {
   "cell_type": "code",
   "execution_count": null,
   "id": "cbde812e-5908-487a-b83e-53d2138b2222",
   "metadata": {},
   "outputs": [],
   "source": [
    "Exercici 2"
   ]
  },
  {
   "cell_type": "code",
   "execution_count": null,
   "id": "6063b455-9fc6-451f-8c01-40f07236c91e",
   "metadata": {},
   "outputs": [],
   "source": [
    "Part 1\n",
    "logs d’info a fitxer de logs d’info i logs d’error a fitxer de logs d’error"
   ]
  },
  {
   "cell_type": "code",
   "execution_count": 1,
   "id": "be25e503-9e42-4a10-8e29-fcb04118ae52",
   "metadata": {},
   "outputs": [],
   "source": [
    "import logging\n",
    "import os\n",
    "# He posat una ruta per tindre els arxius millor ubicats\n",
    "log_dir = r\"C:\\Users\\Gerard\\Desktop\\logs\"\n",
    "os.makedirs(log_dir, exist_ok=True)\n",
    "\n",
    "# Configura el logger\n",
    "logger = logging.getLogger(\"ExerciciseLogger\")\n",
    "logger.setLevel(logging.DEBUG)\n",
    "\n",
    "# Handler per al fitxer INFO\n",
    "info_handler= logging.FileHandler(os.path.join(log_dir, \"info.log\"))\n",
    "info_handler.setLevel(logging.INFO)\n",
    "info_format = logging.Formatter(\"%(asctime)s - %(levelname)s - %(message)s\")\n",
    "info_handler.setFormatter(info_format)\n",
    "\n",
    "# Handler per al fitxer ERROR\n",
    "error_handler = logging.FileHandler(os.path.join(log_dir, \"error.log\"))\n",
    "error_handler.setLevel(logging.ERROR)\n",
    "error_format = logging.Formatter(\"%(asctime)s - %(levelname)s - %(message)s\")\n",
    "error_handler.setFormatter(error_format)\n",
    "\n",
    "# Afegeix els handlers al logger\n",
    "logger.addHandler(info_handler)\n",
    "logger.addHandler(error_handler)\n",
    "\n",
    "# Generació de logs\n",
    "logger.info(\"Aquest és un missatge d'informació.\")  # Anirà a info.log\n",
    "logger.error(\"Aquest és un missatge d'error.\")       # Anirà a error.log\n",
    "logger.debug(\"Aquest és un missatge de depuració.\")  # No anirà a cap fitxer\n",
    "logger.warning(\"Aquest és un avís.\")                # Anirà a info.log\n"
   ]
  },
  {
   "cell_type": "code",
   "execution_count": null,
   "id": "954884d2-fa11-4ea7-8999-00ae7865d23b",
   "metadata": {},
   "outputs": [],
   "source": [
    "Part 2\n",
    "Afegir, a mes del handler de fitxer per a fitxers info, un handler de pantalla amb nivell info\n"
   ]
  },
  {
   "cell_type": "code",
   "execution_count": 3,
   "id": "ae266d73-2483-4cf2-8cf9-71e2800206d6",
   "metadata": {},
   "outputs": [
    {
     "name": "stderr",
     "output_type": "stream",
     "text": [
      "INFO - Aquest és un missatge d'informació.\n",
      "INFO - Aquest és un missatge d'informació.\n",
      "INFO - Aquest és un missatge d'informació.\n",
      "WARNING - Aquest és un avís.\n",
      "WARNING - Aquest és un avís.\n",
      "WARNING - Aquest és un avís.\n",
      "ERROR - Aquest és un error.\n",
      "ERROR - Aquest és un error.\n",
      "ERROR - Aquest és un error.\n"
     ]
    }
   ],
   "source": [
    "import logging\n",
    "import os\n",
    "\n",
    "# He posat una ruta per tindre els arxius millor ubicats\n",
    "log_dir = r\"C:\\Users\\Gerard\\Desktop\\logs\"\n",
    "os.makedirs(log_dir, exist_ok=True)\n",
    "\n",
    "# Configura el logger\n",
    "logger = logging.getLogger(\"ExerciseLogger\")\n",
    "logger.setLevel(logging.DEBUG)\n",
    "\n",
    "# Handler per al fitxer INFO\n",
    "info_handler = logging.FileHandler(os.path.join(log_dir, \"info.log\"))\n",
    "info_handler.setLevel(logging.INFO)\n",
    "info_format = logging.Formatter(\"%(asctime)s - %(levelname)s - %(message)s\")\n",
    "info_handler.setFormatter(info_format)\n",
    "\n",
    "# Handler de pantalla (StreamHandler per mostrar per pantalla)\n",
    "console_handler = logging.StreamHandler()\n",
    "console_handler.setLevel(logging.INFO)\n",
    "console_format = logging.Formatter(\"%(levelname)s - %(message)s\")\n",
    "console_handler.setFormatter(console_format)\n",
    "\n",
    "# Afegeix els handlers al logger\n",
    "logger.addHandler(info_handler)\n",
    "logger.addHandler(console_handler)\n",
    "\n",
    "# Generació de logs\n",
    "logger.info(\"Aquest és un missatge d'informació.\")  # Es mostrarà a pantalla i anirà a info.log\n",
    "logger.warning(\"Aquest és un avís.\")                # Es mostrarà a pantalla i anirà a info.log\n",
    "logger.error(\"Aquest és un error.\")                 # No anirà a info.log, però es mostrarà a pantalla\n",
    "logger.debug(\"Aquest és un missatge de depuració.\") # No es mostrarà ni es guardarà"
   ]
  },
  {
   "cell_type": "code",
   "execution_count": null,
   "id": "06467f2b-615b-4158-ae91-5e380a13dc0a",
   "metadata": {},
   "outputs": [],
   "source": [
    "Part 3\n",
    "Afegir un nou logger amb un nou manegador i un nou formatador a CSV, i afegir una línia al programa que generi aquests logs\n"
   ]
  },
  {
   "cell_type": "code",
   "execution_count": 7,
   "id": "fd9a938c-f5f5-4537-b627-8ef6b34e8fb8",
   "metadata": {},
   "outputs": [
    {
     "name": "stderr",
     "output_type": "stream",
     "text": [
      "INFO - Aquest és un missatge d'informació.\n",
      "INFO - Aquest és un missatge d'informació.\n",
      "INFO - Aquest és un missatge d'informació.\n",
      "INFO - Aquest és un missatge d'informació.\n",
      "INFO - Aquest és un missatge d'informació.\n",
      "INFO - Aquest és un missatge d'informació.\n",
      "INFO - Aquest és un missatge d'informació.\n",
      "WARNING - Aquest és un avís.\n",
      "WARNING - Aquest és un avís.\n",
      "WARNING - Aquest és un avís.\n",
      "WARNING - Aquest és un avís.\n",
      "WARNING - Aquest és un avís.\n",
      "WARNING - Aquest és un avís.\n",
      "WARNING - Aquest és un avís.\n",
      "ERROR - Aquest és un error.\n",
      "ERROR - Aquest és un error.\n",
      "ERROR - Aquest és un error.\n",
      "ERROR - Aquest és un error.\n",
      "ERROR - Aquest és un error.\n",
      "ERROR - Aquest és un error.\n",
      "ERROR - Aquest és un error.\n"
     ]
    }
   ],
   "source": [
    "import logging\n",
    "import os\n",
    "\n",
    "# He posat una ruta per tindre els arxius millor ubicats\n",
    "log_dir = r\"C:\\Users\\Gerard\\Desktop\\logs\"\n",
    "os.makedirs(log_dir, exist_ok=True)\n",
    "\n",
    "# Configura el logger principal\n",
    "logger = logging.getLogger(\"ExerciseLogger\")\n",
    "logger.setLevel(logging.DEBUG)\n",
    "\n",
    "# Handler per al fitxer INFO\n",
    "info_handler = logging.FileHandler(os.path.join(log_dir, \"info.log\"))\n",
    "info_handler.setLevel(logging.INFO)\n",
    "info_format = logging.Formatter(\"%(asctime)s - %(levelname)s - %(message)s\")\n",
    "info_handler.setFormatter(info_format)\n",
    "\n",
    "# Handler per al fitxer ERROR\n",
    "error_handler = logging.FileHandler(os.path.join(log_dir, \"error.log\"))\n",
    "error_handler.setLevel(logging.ERROR)\n",
    "error_format = logging.Formatter(\"%(asctime)s - %(levelname)s - %(message)s\")\n",
    "error_handler.setFormatter(error_format)\n",
    "\n",
    "# Afegit: Handler de pantalla per mostrar INFO i superiors\n",
    "console_handler = logging.StreamHandler()  # Mostra els logs a la terminal\n",
    "console_handler.setLevel(logging.INFO)  # Només INFO i superiors es mostraran\n",
    "console_format = logging.Formatter(\"%(levelname)s - %(message)s\")  # Format senzill per pantalla\n",
    "console_handler.setFormatter(console_format)\n",
    "\n",
    "# Afegim els handlers al logger principal\n",
    "logger.addHandler(info_handler)\n",
    "logger.addHandler(error_handler)\n",
    "logger.addHandler(console_handler)  # Afegim el handler de pantalla\n",
    "\n",
    "# Afegim un nou logger per a logs en CSV\n",
    "csv_logger = logging.getLogger(\"CSVLogger\")  # Crea un nou logger per a CSV\n",
    "csv_logger.setLevel(logging.INFO)  # Nivell INFO per al CSV\n",
    "\n",
    "# Handler per al fitxer CSV\n",
    "csv_handler = logging.FileHandler(os.path.join(log_dir, \"logs.csv\"), mode='w')  # Escriu al fitxer CSV\n",
    "csv_handler.setLevel(logging.INFO)  # Només INFO i superiors es guardaran en CSV\n",
    "csv_format = logging.Formatter(\"%(asctime)s,%(levelname)s,%(message)s\")  # Format CSV\n",
    "csv_handler.setFormatter(csv_format)\n",
    "\n",
    "# Afegim el handler CSV al nou logger\n",
    "csv_logger.addHandler(csv_handler)\n",
    "\n",
    "# Exemple de generació de logs (logs de CSV)\n",
    "csv_logger.info(\"Aquest és un missatge de log en format CSV.\")  # Genera un log en CSV\n",
    "\n",
    "# Generació de logs generals\n",
    "logger.info(\"Aquest és un missatge d'informació.\")  # Es mostra a pantalla i es guarda a info.log\n",
    "logger.warning(\"Aquest és un avís.\")                # Es mostra a pantalla i es guarda a info.log\n",
    "logger.error(\"Aquest és un error.\")                 # Es mostra a pantalla i es guarda a error.log\n",
    "logger.debug(\"Aquest és un missatge de depuració.\") # No es mostra ni es guarda enlloc"
   ]
  },
  {
   "cell_type": "code",
   "execution_count": null,
   "id": "7473bec2-e111-41eb-b255-ea73235cc316",
   "metadata": {},
   "outputs": [],
   "source": []
  }
 ],
 "metadata": {
  "kernelspec": {
   "display_name": "Python 3 (ipykernel)",
   "language": "python",
   "name": "python3"
  },
  "language_info": {
   "codemirror_mode": {
    "name": "ipython",
    "version": 3
   },
   "file_extension": ".py",
   "mimetype": "text/x-python",
   "name": "python",
   "nbconvert_exporter": "python",
   "pygments_lexer": "ipython3",
   "version": "3.12.1"
  }
 },
 "nbformat": 4,
 "nbformat_minor": 5
}
